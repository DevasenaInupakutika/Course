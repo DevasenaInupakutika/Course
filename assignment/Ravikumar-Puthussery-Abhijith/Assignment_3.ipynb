{
 "cells": [
  {
   "cell_type": "markdown",
   "metadata": {},
   "source": [
    "## Assignment 3\n",
    "\n",
    "### Abhijith Ravikumar Puthussery"
   ]
  },
  {
   "cell_type": "markdown",
   "metadata": {},
   "source": [
    "### Write a TensorFlow Program: Classification\n",
    "\n",
    "#### Translate the following program to TensorFlow using your elab Cloud Jupyter Notebook (https://github.com/ml6973/Course/blob/master/code/Introduction%20to%20Deep%20Learning.ipynb)\n",
    "\n",
    "#### Data : Data is taken from sklearn's make_moon dataset. There are two features and and the target is a categorical variable (0/1). The aim is to devise an algorithm that correctly classifies the datapoints. Here is the link to the data set: (https://github.com/ml6973/Course/blob/master/code/data/intro_to_ann.csv)"
   ]
  },
  {
   "cell_type": "code",
   "execution_count": 14,
   "metadata": {
    "collapsed": true
   },
   "outputs": [],
   "source": [
    "#Import the required packages\n",
    "import tensorflow as tf\n",
    "import numpy as np\n",
    "import pandas as pd\n",
    "import matplotlib\n",
    "import matplotlib.pyplot as plt\n",
    "import scipy\n",
    "import math\n",
    "import random\n",
    "import string"
   ]
  },
  {
   "cell_type": "code",
   "execution_count": 15,
   "metadata": {
    "collapsed": true
   },
   "outputs": [],
   "source": [
    "epochs = 10000 #No of iterations\n",
    "learning_rate = 0.01 #Rate of learning"
   ]
  },
  {
   "cell_type": "code",
   "execution_count": 16,
   "metadata": {
    "collapsed": true
   },
   "outputs": [],
   "source": [
    "random.seed(123)\n",
    "# Display plots inline \n",
    "%matplotlib inline\n",
    "# Define plot's default figure size\n",
    "matplotlib.rcParams['figure.figsize'] = (8.0, 6.0)"
   ]
  },
  {
   "cell_type": "code",
   "execution_count": 17,
   "metadata": {
    "collapsed": false,
    "scrolled": true
   },
   "outputs": [
    {
     "name": "stdout",
     "output_type": "stream",
     "text": [
      "(500, 2) (500, 1)\n"
     ]
    }
   ],
   "source": [
    "training = pd.read_csv(\"intro_to_ann.csv\") #Read dataset\n",
    "mti, mtl = np.array(training.ix[:,0:2]), np.array(training.ix[:,2:3]) #mti=image, mtl=layer\n",
    "plt.scatter(mti[:,0], mti[:,1], s=40, c=mtl, cmap=plt.cm.BuGn) #Scatter plot"
    "print(mti.shape, mtl.shape) #dimension of mti & mtl"
   ]
  },
  {
   "cell_type": "code",
   "execution_count": 18,
   "metadata": {
    "collapsed": false
   },
   "outputs": [],
   "source": [
    "x = tf.placeholder(tf.float32, [None, 2])\n",
    "Wh = tf.Variable(tf.random_normal([2, 6])) #Weight of hidden layer\n",
    "W = tf.Variable(tf.random_normal([2,6])) #Normal weight\n",
    "bh = tf.Variable(tf.random_normal([6])) #Bias of hidden layer\n",
    "b = tf.Variable(tf.zeros([1])) #Bias of layer\n",
    "y = tf.nn.softmax(tf.add(tf.matmul(x, W) , b)) #Output\n",
    "y_= tf.placeholder(tf.float32,[None,1])"
   ]
  },
  {
   "cell_type": "code",
   "execution_count": 19,
   "metadata": {
    "collapsed": true
   },
   "outputs": [],
   "source": [
    "# Define loss and optimizer\n",
    "cross_entropy = tf.reduce_mean(-tf.reduce_sum(y_ * tf.log(y), reduction_indices=[1]))\n",
    "optimizer = tf.train.GradientDescentOptimizer(learning_rate).minimize(cross_entropy)"
   ]
  },
  {
   "cell_type": "code",
   "execution_count": 20,
   "metadata": {
    "collapsed": false
   },
   "outputs": [],
   "source": [
    "correct_prediction = tf.equal(tf.argmax(y,1), tf.argmax(y_,1))\n",
    "accuracy = tf.reduce_mean(tf.cast(correct_prediction, tf.float32))"
   ]
  },
  {
   "cell_type": "code",
   "execution_count": 21,
   "metadata": {
    "collapsed": false
   },
   "outputs": [
    {
     "name": "stdout",
     "output_type": "stream",
     "text": [
      "0.304\n"
     ]
    }
   ],
   "source": [
    "#Creating and running the session for accuracy\n",
    "init = tf.initialize_all_variables()\n",
    "errors=[]\n",
    "with tf.Session() as sess:\n",
    "        sess.run(init)\n",
    "        for i in range(epochs):\n",
    "            batch_xs = mti\n",
    "            batch_ys = mtl\n",
    "            _, cross_entropy_value, y_value = sess.run([optimizer, cross_entropy, y], feed_dict={x: batch_xs, y_: batch_ys})\n",
    "            accuracy_value = sess.run(accuracy, feed_dict={x: mti, y_: mtl})\n",
    "            errors.append(1-accuracy_value)\n",
    "        print (accuracy_value)\n",
    "        "
   ]
  },
  {
   "cell_type": "code",
   "execution_count": 22,
   "metadata": {
    "collapsed": false
   },
   "outputs": [
    {
     "name": "stderr",
     "output_type": "stream",
     "text": [
      "/usr/local/lib/python3.4/dist-packages/numpy/core/_methods.py:59: RuntimeWarning: Mean of empty slice.\n",
      "  warnings.warn(\"Mean of empty slice.\", RuntimeWarning)\n"
     ]
    },
    {
     "data": {
      "image/png": "iVBORw0KGgoAAAANSUhEUgAAATQAAAEXCAYAAAAjubgHAAAABHNCSVQICAgIfAhkiAAAAAlwSFlz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\n",
      "text/plain": [
       "<matplotlib.figure.Figure at 0x7f75c062bcf8>"
      ]
     },
     "metadata": {},
     "output_type": "display_data"
    }
   ],
   "source": [
    "plt.plot([np.mean(errors[i-50:i]) for i in range(len(errors))])\n",
    "plt.show()"
   ]
  },
  {
   "cell_type": "code",
   "execution_count": null,
   "metadata": {
    "collapsed": true
   },
   "outputs": [],
   "source": []
  }
 ],
 "metadata": {
  "kernelspec": {
   "display_name": "Python 3",
   "language": "python",
   "name": "python3"
  },
  "language_info": {
   "codemirror_mode": {
    "name": "ipython",
    "version": 3
   },
   "file_extension": ".py",
   "mimetype": "text/x-python",
   "name": "python",
   "nbconvert_exporter": "python",
   "pygments_lexer": "ipython3",
   "version": "3.4.3"
  }
 },
 "nbformat": 4,
 "nbformat_minor": 1
}
